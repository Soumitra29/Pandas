{
  "nbformat": 4,
  "nbformat_minor": 0,
  "metadata": {
    "colab": {
      "name": "Pandas.ipynb",
      "provenance": [],
      "collapsed_sections": []
    },
    "kernelspec": {
      "name": "python3",
      "display_name": "Python 3"
    },
    "language_info": {
      "name": "python"
    }
  },
  "cells": [
    {
      "cell_type": "markdown",
      "source": [
        "#**'os' library to change working directory**"
      ],
      "metadata": {
        "id": "c17FIAYFhHx-"
      }
    },
    {
      "cell_type": "code",
      "execution_count": null,
      "metadata": {
        "id": "odgOE8BBfQhl"
      },
      "outputs": [],
      "source": [
        " import os"
      ]
    },
    {
      "cell_type": "markdown",
      "source": [
        "#**'pandas' library to work with dataframes**"
      ],
      "metadata": {
        "id": "AlbITDLThVj0"
      }
    },
    {
      "cell_type": "code",
      "source": [
        "import pandas as pd"
      ],
      "metadata": {
        "id": "Qt_vpipChfqE"
      },
      "execution_count": null,
      "outputs": []
    },
    {
      "cell_type": "markdown",
      "source": [
        "#**Changing the working directory**"
      ],
      "metadata": {
        "id": "Yv8cNMzoh_Xv"
      }
    },
    {
      "cell_type": "code",
      "source": [
        "os.chdir(\"path of file\")"
      ],
      "metadata": {
        "id": "l5ncJkkGiP6f"
      },
      "execution_count": null,
      "outputs": []
    },
    {
      "cell_type": "markdown",
      "source": [
        "#**Importing data**"
      ],
      "metadata": {
        "id": "6b1ZP_M9ib0K"
      }
    },
    {
      "cell_type": "code",
      "source": [
        "data_csv=pd.read_csv('name_of_file.csv')\n",
        "data_xlsx=pd.read_excel('name_of_file.xlsx')\n",
        "data_txt=pd.read_table('name_of_file.txt')"
      ],
      "metadata": {
        "id": "cYtousLSigYT"
      },
      "execution_count": null,
      "outputs": []
    },
    {
      "cell_type": "markdown",
      "source": [
        "#Blank cells read as 'nan'"
      ],
      "metadata": {
        "id": "L50ET-BHiseT"
      }
    },
    {
      "cell_type": "markdown",
      "source": [
        "#**Removing extra id column by passing index_col=0**"
      ],
      "metadata": {
        "id": "UewqvbHei_Xr"
      }
    },
    {
      "cell_type": "code",
      "source": [
        "data_csv=pd.read_csv('name_of_file.csv',index_col=0)"
      ],
      "metadata": {
        "id": "BM5yHPD3jhLf"
      },
      "execution_count": null,
      "outputs": []
    },
    {
      "cell_type": "markdown",
      "source": [
        "#**Junk values(special character) can be converted to missing values by passing them as a list to the parameter 'na_values'**"
      ],
      "metadata": {
        "id": "LLtewb0Yjugs"
      }
    },
    {
      "cell_type": "code",
      "source": [
        "data_csv=pd.read_csv('name_of_file.csv',index_col=0,na_values=[\"??\",\"###\"])"
      ],
      "metadata": {
        "id": "EGtR4572kWY4"
      },
      "execution_count": null,
      "outputs": []
    },
    {
      "cell_type": "markdown",
      "source": [
        "#**Checking data types of each column**"
      ],
      "metadata": {
        "id": "vrMWLDxanOxl"
      }
    },
    {
      "cell_type": "code",
      "source": [
        "DataFrameName.dtypes"
      ],
      "metadata": {
        "id": "t0re7LeVoNTn"
      },
      "execution_count": null,
      "outputs": []
    },
    {
      "cell_type": "markdown",
      "source": [
        "#**Count of unique data types**"
      ],
      "metadata": {
        "id": "vAbJamd-oslK"
      }
    },
    {
      "cell_type": "code",
      "source": [
        "DataFrame.get_dtype_counts() #returns counts of unique datatypes in the dataframe"
      ],
      "metadata": {
        "id": "UvvL8jwqo1mF"
      },
      "execution_count": null,
      "outputs": []
    },
    {
      "cell_type": "markdown",
      "source": [
        "#**Selecting data based on data types**"
      ],
      "metadata": {
        "id": "Z2ltv_oxpGOx"
      }
    },
    {
      "cell_type": "code",
      "source": [
        "DataFrame.select_dtypes(exclude=[object])#returns a subset of the columns from dataframe based on the column dtypes"
      ],
      "metadata": {
        "id": "k470j02mpWA6"
      },
      "execution_count": null,
      "outputs": []
    },
    {
      "cell_type": "markdown",
      "source": [
        "#**info()**"
      ],
      "metadata": {
        "id": "zl_UuqgyqPYL"
      }
    },
    {
      "cell_type": "markdown",
      "source": [
        "returns a concise summary of a dataframe\n",
        "\n",
        "Syntax: DataFrame.info()"
      ],
      "metadata": {
        "id": "ZogrWXHqqWwB"
      }
    },
    {
      "cell_type": "code",
      "source": [
        "DataFrame.info()"
      ],
      "metadata": {
        "id": "G0ub_OBgqlvD"
      },
      "execution_count": null,
      "outputs": []
    },
    {
      "cell_type": "markdown",
      "source": [
        ""
      ],
      "metadata": {
        "id": "lj9_wgjqquOI"
      }
    }
  ]
}